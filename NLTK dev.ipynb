{
 "cells": [
  {
   "cell_type": "code",
   "execution_count": null,
   "metadata": {
    "collapsed": true
   },
   "outputs": [],
   "source": [
    "# code based on http://glowingpython.blogspot.com/2014/09/text-summarization-with-nltk.html"
   ]
  },
  {
   "cell_type": "code",
   "execution_count": 1,
   "metadata": {
    "collapsed": true
   },
   "outputs": [],
   "source": [
    "from nltk.tokenize import sent_tokenize,word_tokenize\n",
    "from nltk.corpus import stopwords\n",
    "from collections import defaultdict\n",
    "from string import punctuation\n",
    "from heapq import nlargest"
   ]
  },
  {
   "cell_type": "code",
   "execution_count": 71,
   "metadata": {
    "collapsed": false
   },
   "outputs": [],
   "source": [
    "class FrequencySummarizer:\n",
    "    def __init__(self, min_cut=0.1, max_cut=0.9):\n",
    "        \"\"\"\n",
    "         Initilize the text summarizer.\n",
    "         Words that have a frequency term lower than min_cut \n",
    "         or higer than max_cut will be ignored.\n",
    "        \"\"\"\n",
    "        self._min_cut = min_cut\n",
    "        self._max_cut = max_cut \n",
    "        self._stopwords = set(stopwords.words('english') + list(punctuation))\n",
    "\n",
    "    def _compute_frequencies(self, word_sent):\n",
    "        \"\"\" \n",
    "          Compute the frequency of each of word.\n",
    "          Input: \n",
    "           word_sent, a list of sentences already tokenized.\n",
    "          Output: \n",
    "           freq, a dictionary where freq[w] is the frequency of w.\n",
    "        \"\"\"\n",
    "        freq = defaultdict(int)\n",
    "        for s in word_sent:\n",
    "            for word in s:\n",
    "                if word not in self._stopwords:\n",
    "                    freq[word] += 1\n",
    "            # frequencies normalization and fitering\n",
    "        m = float(max(freq.values()))\n",
    "        for w in freq.keys():\n",
    "            freq[w] = freq[w]/m\n",
    "            if freq[w] >= self._max_cut or freq[w] <= self._min_cut:\n",
    "                del freq[w]\n",
    "        return freq\n",
    "\n",
    "    def summarize(self, text, n):\n",
    "        \"\"\"\n",
    "          Return a list of n sentences \n",
    "          which represent the summary of text.\n",
    "        \"\"\"\n",
    "        num_sents = n\n",
    "        sents = sent_tokenize(text)\n",
    "        # assert n <= len(sents) not as useful as just trimming down to \n",
    "        # if n >= len(sents), just keep the first sentence, as the corpus is too short to reliably include anything else\n",
    "        if n >= len(sents):\n",
    "            num_sents = 1\n",
    "        word_sent = [word_tokenize(s.lower()) for s in sents]\n",
    "        self._freq = self._compute_frequencies(word_sent)\n",
    "        ranking = defaultdict(int)\n",
    "        for i,sent in enumerate(word_sent):\n",
    "            for w in sent:\n",
    "                if w in self._freq:\n",
    "                    ranking[i] += self._freq[w]\n",
    "        sents_idx = self._rank(ranking, num_sents)    \n",
    "        return [sents[j] for j in sents_idx]\n",
    "\n",
    "    def _rank(self, ranking, n):\n",
    "        \"\"\" return the first n sentences with highest ranking \"\"\"\n",
    "        return nlargest(n, ranking, key=ranking.get)"
   ]
  },
  {
   "cell_type": "code",
   "execution_count": 72,
   "metadata": {
    "collapsed": false
   },
   "outputs": [],
   "source": [
    "fs = FrequencySummarizer()\n",
    "\n"
   ]
  },
  {
   "cell_type": "code",
   "execution_count": 77,
   "metadata": {
    "collapsed": false
   },
   "outputs": [],
   "source": [
    "import urllib2\n",
    "from bs4 import BeautifulSoup\n",
    "\n",
    "def get_only_text(url):\n",
    "    \"\"\" \n",
    "    return the title and the text of the article\n",
    "    at the specified url\n",
    "    \"\"\"\n",
    "    opener = urllib2.build_opener(urllib2.HTTPCookieProcessor())\n",
    "    page = opener.open(url).read().decode('utf8')\n",
    "    soup = BeautifulSoup(page)\n",
    "    # The right fix: tokenize sentences from each paragraph separately, then collapse all sentences into a single list\n",
    "    # see: http://stackoverflow.com/questions/29041603/nltk-sentence-tokenizer-consider-new-lines-as-sentence-boundary\n",
    "    text = ' '.join(map(lambda p: p.text, soup.find_all('p'))) # this isn't fixed yet\n",
    "    return soup.title.text, text"
   ]
  },
  {
   "cell_type": "code",
   "execution_count": 58,
   "metadata": {
    "collapsed": false
   },
   "outputs": [
    {
     "name": "stdout",
     "output_type": "stream",
     "text": [
      "----------------------------------\n",
      "Facebook says it will stop writing descriptions for Trending Topics - The Verge\n",
      "* Facebook's News Feed team has been reeling since a report earlier this year argued that a team of contractors responsible for the feed's Trending Topics module routinely suppressed news of interest to political conservatives.\n",
      "* But using other people's descriptions for those topics insulates Facebook criticism from those descriptions are biased  — and will also let Facebook expand Trending Topics to other countries faster, the company said.\n",
      "* \"Facebook is a platform for all ideas, and we're committed to maintaining Trending as a way for people to access a breadth of ideas and commentary about a variety of topics.\"\n"
     ]
    }
   ],
   "source": [
    "title, text = get_only_text(\"http://www.theverge.com/2016/8/26/12663334/facebook-trending-topics-descriptions\")\n",
    "\n",
    "print '----------------------------------'\n",
    "print title\n",
    "for s in fs.summarize(text, 3):\n",
    "    print '*',s\n"
   ]
  },
  {
   "cell_type": "code",
   "execution_count": 41,
   "metadata": {
    "collapsed": true
   },
   "outputs": [],
   "source": [
    "urls = [\"http://www.theverge.com/2016/8/26/12663334/facebook-trending-topics-descriptions\",\n",
    "       \"https://www.nytimes.com/interactive/2017/04/28/us/politics/trump-savings-tax-plan.html\",\n",
    "       \"https://www.nytimes.com/interactive/2017/03/14/us/politics/document-Donald-Trump-2005-Tax.html\",\n",
    "       \"https://www.nytimes.com/topic/subject/alternative-minimum-tax?inline=nyt-classifier\",\n",
    "       \"https://www.nytimes.com/2016/10/02/us/politics/donald-trump-taxes.html\"]"
   ]
  },
  {
   "cell_type": "code",
   "execution_count": 66,
   "metadata": {
    "collapsed": true
   },
   "outputs": [],
   "source": [
    "urls = [\"http://www.theverge.com/2016/8/26/12663334/facebook-trending-topics-descriptions\",\n",
    "\"https://www.nytimes.com/interactive/2017/04/28/us/politics/trump-savings-tax-plan.html?&hp&action=click&pgtype=Homepage&clickSource=story-heading&module=b-lede-package-region&region=top-news&WT.nav=top-news\",\n",
    "\"https://www.nytimes.com/interactive/2017/03/14/us/politics/document-Donald-Trump-2005-Tax.html\",\n",
    "\"https://www.nytimes.com/2017/03/14/us/politics/donald-trump-taxes.html\",\n",
    "\"https://www.nytimes.com/topic/subject/alternative-minimum-tax?inline=nyt-classifier\",\n",
    "\"https://www.nytimes.com/2016/10/02/us/politics/donald-trump-taxes.html\",\n",
    "\"http://www.nbcnews.com/politics/politics-news/donald-trump-will-not-release-tax-returns-white-house-adviser-n710511\",\n",
    "\"http://www.nbcnews.com/politics/politics-news/trump-presser-leaves-big-questions-ethics-russia-healthcare-n705801\",\n",
    "\"http://abcnews.go.com/Politics/public-splits-trumps-ethics-compliance-quarters-tax-returns/story?id=44811545\",\n",
    "\"https://www.wsj.com/articles/donald-trump-got-a-big-break-on-2005-taxes-1458249902\",\n",
    "\"http://www.politico.com/story/2016/06/donald-trump-no-taxes-224498\",\n",
    "\"https://www.washingtonpost.com/politics/trumps-income-tax-returns-once-became-public-they-showed-he-didnt-pay-a-cent/2016/05/20/ffa2f63c-1b7c-11e6-b6e0-c53b7ef63b45_story.html?utm_term=.4ec763317154\",\n",
    "\"https://www.bloomberg.com/billionaires/profiles/donald-j-trump/\",\n",
    "\"https://www.nytimes.com/2017/04/28/world/asia/north-korea-missile-test.html?action=click&contentCollection=Asia%20Pacific&module=RelatedCoverage&region=EndOfArticle&pgtype=article\",\n",
    "\"https://www.nytimes.com/2017/04/28/world/asia/tillerson-north-korea.html\",\n",
    "\"https://www.nytimes.com/2017/04/18/world/asia/north-korea-missile-program-sabotage.html?rref=collection%2Ftimestopic%2FNorth%20Korea&action=click&contentCollection=world&region=stream&module=stream_unit&version=latest&contentPlacement=18&pgtype=collection\",\n",
    "\"https://www.nytimes.com/2017/02/13/world/asia/north-korea-missile-launch-success.html\",\n",
    "\"https://www.nytimes.com/2017/03/05/world/north-korea-ballistic-missiles.html\",\n",
    "\"http://www.reuters.com/article/us-usa-trump-exclusive-idUSKBN17U04E\",\n",
    "\"http://38north.org/2017/04/mwilliams041217/\",\n",
    "\"https://www.nytimes.com/2016/10/20/world/asia/north-korea-musudan-missile-failure.html\"]"
   ]
  },
  {
   "cell_type": "code",
   "execution_count": 80,
   "metadata": {
    "collapsed": true
   },
   "outputs": [],
   "source": [
    "del urls\n",
    "urls = [\"https://www.nytimes.com/2017/04/28/world/asia/north-korea-missile-test.html?action=click&contentCollection=Asia%20Pacific&module=RelatedCoverage&region=EndOfArticle&pgtype=article\",\n",
    "\"https://www.nytimes.com/2017/04/28/world/asia/tillerson-north-korea.html\",\n",
    "\"https://www.nytimes.com/2017/04/18/world/asia/north-korea-missile-program-sabotage.html?rref=collection%2Ftimestopic%2FNorth%20Korea&action=click&contentCollection=world&region=stream&module=stream_unit&version=latest&contentPlacement=18&pgtype=collection\",\n",
    "\"https://www.nytimes.com/2017/02/13/world/asia/north-korea-missile-launch-success.html\",\n",
    "\"https://www.nytimes.com/2017/03/05/world/north-korea-ballistic-missiles.html\",\n",
    "\"http://www.reuters.com/article/us-usa-trump-exclusive-idUSKBN17U04E\",\n",
    "\"http://38north.org/2017/04/mwilliams041217/\",\n",
    "\"https://www.nytimes.com/2016/10/20/world/asia/north-korea-musudan-missile-failure.html\"]"
   ]
  },
  {
   "cell_type": "code",
   "execution_count": 82,
   "metadata": {
    "collapsed": true
   },
   "outputs": [],
   "source": [
    "del urls\n",
    "urls = [\"https://www.nytimes.com/2016/10/16/world/asia/north-korean-missile-test.html\",\n",
    "\"https://www.nytimes.com/2016/06/23/world/asia/north-korea-missile-test.html\",\n",
    "\"https://www.nytimes.com/2016/05/07/world/asia/north-korea-nuclear-us-strategy.html\",\n",
    "\"https://www.nytimes.com/2016/05/07/world/asia/north-korea-congress.html?_r=0\"\n",
    "]"
   ]
  },
  {
   "cell_type": "code",
   "execution_count": 46,
   "metadata": {
    "collapsed": false
   },
   "outputs": [
    {
     "name": "stdout",
     "output_type": "stream",
     "text": [
      "47\n",
      "[u'advertisement', u'portion', u'president', u'trump', u\"'s\", u'2005', u'tax', u'return', u'released', u'msnbc', u\"'s\", u'rachel', u'maddow', u'tuesday', u'shows', u'mr.', u'trump', u'paid', u'38', u'million', u'federal', u'income', u'taxes', u'reported', u'income', u'150', u'million', u'march', u'14', u'2017', u'related', u'article', u'advertisement']\n",
      "[u\"advertisement \\na portion of president trump's 2005 tax return, released by msnbc's rachel maddow on tuesday, shows that mr. trump paid $38 million in federal income taxes on reported income of $150 million.\", u'march 14, 2017\\nrelated article\\n advertisement']\n",
      "33\n"
     ]
    }
   ],
   "source": [
    "title, text = get_only_text(urls[2])\n",
    "\n",
    "sw = set(stopwords.words('english') + list(punctuation))\n",
    "\n",
    "words = word_tokenize(text.lower())\n",
    "sents = sent_tokenize(text.lower())\n",
    "\n",
    "print(len(words))\n",
    "\n",
    "realwords = []\n",
    "for word in words:\n",
    "    if (word not in sw) and (len(word)>1):\n",
    "        realwords.append(word)\n",
    "        \n",
    "print(realwords)\n",
    "print(sents)\n",
    "print(len(realwords))"
   ]
  },
  {
   "cell_type": "code",
   "execution_count": 83,
   "metadata": {
    "collapsed": false
   },
   "outputs": [
    {
     "name": "stdout",
     "output_type": "stream",
     "text": [
      "----------------------------------\n",
      "New Test of North Korean Missile Fails, South Says - The New York Times\n",
      "* Access to NYTimes.com and all NYTimes apps Unlimited article access, anytime, anywhere Learn more ► NYTimes Crossword Access, Enjoy 20 years of NYTimes crosswords archives, sync your progress across any device 1 complimentary digital subscription to give anyone you’d like Learn more ► Customized delivery options such as Sunday only, Fri.-Sun., weekday delivery, or daily delivery The weekly Sunday magazine and monthly T Magazine 2 complimentary digital subscriptions to give anyone you’d like Learn more ► Go to Home Page »\n",
      "----------------------------------\n",
      "North Korea’s Successful Missile Test Shows Program’s Progress, Analysts Say - The New York Times\n",
      "* Advertisement “We have the sure capability to attack, in an overall and practical way, the Americans in the Pacific operation theater,” Mr. Kim said, calling for his country to continue increasing its “pre-emptive nuclear attack capability.” Advertisement North Korea said that the missile accurately landed in targeted waters 250 miles away after reaching an altitude of 878 miles, and that it had fired the missile at a sharper angle to demonstrate its potential to reach the estimated full range of more than 2,000 miles — far enough to reach American military bases in the Pacific — without actually covering that distance.\n",
      "----------------------------------\n",
      "As North Korea’s Nuclear Program Advances, U.S. Strategy Is Tested - The New York Times\n",
      "* Advertisement Victor Cha, who was a senior official on President George W. Bush’s National Security Council, said American policy had been “concerned about not overreacting to every North Korean provocation, and that made sense when their capabilities were not all that formidable.” Advertisement “But now they have been in a spiral of escalation,” he said, “and we are underreacting when their capabilities are accelerating.” Advertisement Park Ji-young, a nuclear policy analyst at the Asan Institute for Policy Studies in Seoul, said officials did not want to discuss the North’s new capabilities “because they don’t know exactly how they can stop them, and because they don’t want to scare the people.” Advertisement A master of bombast, Mr. Kim appears increasingly volatile during his fifth year in power.\n",
      "----------------------------------\n",
      "North Korean Leader Tells Congress His Nuclear Program Brings ‘Dignity’ - The New York Times\n",
      "* SEOUL, South Korea — North Korea’s leader, Kim Jong-un, said Friday that his nuclear weapons and missile programs brought his country “dignity and national power,” as he convened the first congress of his Workers’ Party in 36 years.\n"
     ]
    }
   ],
   "source": [
    "for article_url in urls:\n",
    "    title, text = get_only_text(article_url)\n",
    "\n",
    "    print '----------------------------------'\n",
    "    print title\n",
    "    for s in fs.summarize(text, 1):\n",
    "        print '*',s"
   ]
  },
  {
   "cell_type": "code",
   "execution_count": 16,
   "metadata": {
    "collapsed": false
   },
   "outputs": [
    {
     "name": "stdout",
     "output_type": "stream",
     "text": [
      "['facebook', \"'s\", 'news', 'feed', 'team', 'has', 'been', 'reeling', 'since', 'a', 'report', 'earlier', 'this', 'year', 'argued', 'that', 'a', 'team', 'of', 'contractors', 'responsible', 'for', 'the', 'feed', \"'s\", 'trending', 'topics', 'module', 'routinely', 'suppressed', 'news', 'of', 'interest', 'to', 'political', 'conservatives', '.']\n",
      "['facebook', 'denied', 'the', 'report', ',', 'which', 'was', 'published', 'by', 'gizmodo', 'and', 'was', 'sourced', 'to', 'former', 'contractors', 'on', 'the', 'team', '.']\n",
      "['but', 'the', 'company', 'has', 'spent', 'several', 'months', 'doing', 'damage', 'control', ',', 'rattled', 'by', 'the', 'possibility', 'that', 'conservative', 'users', 'would', 'abandon', 'the', 'site', 'over', 'claims', 'of', 'bias', '.']\n",
      "['today', 'facebook', 'took', 'a', 'step', 'to', 'reduce', 'the', 'influence', 'humans', 'have', 'over', 'the', 'module', 'by', 'ending', 'its', 'practice', 'of', 'writing', 'editorial', 'descriptions', 'for', 'topics', ',', 'replacing', 'them', 'with', 'snippets', 'of', 'text', 'pulled', 'from', 'news', 'stories', '.']\n"
     ]
    }
   ],
   "source": [
    "\"\"\"\n",
    "txt = \"Facebook's News Feed team has been reeling since a report earlier this year argued that a team of contractors responsible for the feed's Trending Topics module routinely suppressed news of interest to political conservatives. Facebook denied the report, which was published by Gizmodo and was sourced to former contractors on the team. But the company has spent several months doing damage control, rattled by the possibility that conservative users would abandon the site over claims of bias. Today Facebook took a step to reduce the influence humans have over the module by ending its practice of writing editorial descriptions for topics, replacing them with snippets of text pulled from news stories.\"\n",
    "\n",
    "lol = map(lambda x: word_tokenize(x.lower()), sent_tokenize(txt))\n",
    "\n",
    "lol[0]\n",
    "\n",
    "for i, sent in enumerate(lol):\n",
    "    print sent\n",
    "ranking = defaultdict(int)\n",
    "ranking\n",
    "\n",
    "fs.summarize(txt,1)\n",
    "\"\"\"\n"
   ]
  },
  {
   "cell_type": "code",
   "execution_count": 19,
   "metadata": {
    "collapsed": false
   },
   "outputs": [
    {
     "data": {
      "text/plain": [
       "[\"Facebook's News Feed team has been reeling since a report earlier this year argued that a team of contractors responsible for the feed's Trending Topics module routinely suppressed news of interest to political conservatives.\"]"
      ]
     },
     "execution_count": 19,
     "metadata": {},
     "output_type": "execute_result"
    }
   ],
   "source": [
    "txt = \"Facebook's News Feed team has been reeling since a report earlier this year argued that a team of contractors responsible for the feed's Trending Topics module routinely suppressed news of interest to political conservatives. Facebook denied the report, which was published by Gizmodo and was sourced to former contractors on the team. But the company has spent several months doing damage control, rattled by the possibility that conservative users would abandon the site over claims of bias. Today Facebook took a step to reduce the influence humans have over the module by ending its practice of writing editorial descriptions for topics, replacing them with snippets of text pulled from news stories.\"\n",
    "\n",
    "fs.summarize(txt,1)"
   ]
  }
 ],
 "metadata": {
  "kernelspec": {
   "display_name": "Python 2",
   "language": "python",
   "name": "python2"
  },
  "language_info": {
   "codemirror_mode": {
    "name": "ipython",
    "version": 2
   },
   "file_extension": ".py",
   "mimetype": "text/x-python",
   "name": "python",
   "nbconvert_exporter": "python",
   "pygments_lexer": "ipython2",
   "version": "2.7.11"
  }
 },
 "nbformat": 4,
 "nbformat_minor": 0
}
